{
 "cells": [
  {
   "cell_type": "markdown",
   "metadata": {},
   "source": [
    "## Setup\n",
    "Being a Jupyter Notebook outside the main `./src` directory we need to configure a `PATH`s"
   ]
  },
  {
   "cell_type": "code",
   "execution_count": 1,
   "metadata": {},
   "outputs": [
    {
     "name": "stdout",
     "output_type": "stream",
     "text": [
      "Requirement already satisfied: pip in /Users/davidclare/Projects/rag-python/.venv/lib/python3.9/site-packages (25.0.1)\n",
      "Note: you may need to restart the kernel to use updated packages.\n",
      "Note: you may need to restart the kernel to use updated packages.\n"
     ]
    }
   ],
   "source": [
    "%pip install --upgrade pip\n",
    "\n",
    "%pip install -q -r ../requirements.txt"
   ]
  },
  {
   "cell_type": "code",
   "execution_count": 2,
   "metadata": {},
   "outputs": [],
   "source": [
    "import sys\n",
    "from pathlib import Path\n",
    "\n",
    "# This feels like a hack, but it is necessary to import the module from the parent directory\n",
    "# when running this notebook in Jupyter Lab or Jupyter Notebook.\n",
    "# The __file__ variable is not defined in Jupyter notebooks, so we need to handle that case.\n",
    "\n",
    "# Get the root path relative to the notebook\n",
    "root_path = (\n",
    "    Path(__file__).resolve().parent.parent\n",
    "    if \"__file__\" in globals()\n",
    "    else Path().resolve().parent\n",
    ")\n",
    "\n",
    "# Add it to sys.path if not already added\n",
    "if str(root_path) not in sys.path:\n",
    "    sys.path.append(str(root_path))"
   ]
  },
  {
   "cell_type": "code",
   "execution_count": 3,
   "metadata": {},
   "outputs": [],
   "source": [
    "# print(\"Current working directory:\", Path().resolve())\n",
    "# print(\"Python search paths:\")\n",
    "# for p in sys.path:\n",
    "#     print(\"-\", p)"
   ]
  },
  {
   "cell_type": "markdown",
   "metadata": {},
   "source": [
    "## Holy Code Batman\n",
    "This is where we will do the following\n",
    "- Loop through the data source\n",
    "- Read and extract text\n",
    "    - This is straight forward, but it is obvious that some things are lost. E.g. any tables, context like headers.\n",
    "    - Old PDF's are just scans of typed documents. So how reliable is this? \n",
    "- Clean the text\n",
    "    - This is basic and written to be expanded on. \n",
    "    - How do we know what to clean or remove?\n",
    "- Create metadata\n",
    "    - Some basic stuff\n",
    "- Append an `<output>.txt` and an `<output>.jsonl` file\n",
    "    - This is fine and works as expected.\n",
    "    - Saving to a file is fine for local development \n",
    "- Log steps, issues, etc?\n",
    "    - **Todo**\n",
    "        - Better debugging\n"
   ]
  },
  {
   "cell_type": "code",
   "execution_count": null,
   "metadata": {},
   "outputs": [],
   "source": [
    "from pathlib import Path\n",
    "from src.config import settings"
   ]
  },
  {
   "cell_type": "code",
   "execution_count": null,
   "metadata": {},
   "outputs": [],
   "source": [
    "from dataclasses import dataclass ## dataclass is a Python decorator that automatically generates special methods for classes\n",
    "from src.lib.text_file import TextFile ## Importing the TextFile class from the text_file module\n",
    "from src.lib.append_jsonl_entry import append_jsonl_entry\n",
    "from src.lib.append_to_file import AppendToTextFile\n",
    "from src.lib.create_meta_data import CreateMetaData\n",
    "from src.lib.document_loader import DocumentLoader\n",
    "from src.lib.txt_handler import TxtHandler\n",
    "from src.lib.pdf_handler import PDFHandler\n",
    "from src.lib.clean_text import clean_text\n",
    "\n",
    "import datetime"
   ]
  },
  {
   "cell_type": "code",
   "execution_count": null,
   "metadata": {},
   "outputs": [
    {
     "name": "stdout",
     "output_type": "stream",
     "text": [
      "1\n",
      "Processed citation-374847716.txt\n",
      "2\n",
      "Processed 19760018356.pdf\n",
      "3\n"
     ]
    },
    {
     "name": "stderr",
     "output_type": "stream",
     "text": [
      "incorrect startxref pointer(1)\n",
      "parsing for Object Streams\n"
     ]
    },
    {
     "name": "stdout",
     "output_type": "stream",
     "text": [
      "Processed P10.pdf\n",
      "4\n",
      "⚠️ Error with companies_house_document.pdf: Unable to get page count. Is poppler installed and in PATH?\n",
      "5\n",
      "Processed Dockerfile.txt\n",
      "6\n",
      "Processed LHH Values Audit Exercise.pdf\n",
      "7\n",
      "Processed Pandas cheat sheet.pdf\n",
      "8\n",
      "Processed 19770020304.pdf\n",
      "9\n",
      "⚠️ Error with .DS_Store: No handler for file type: \n",
      "10\n",
      "Processed 19770014315.pdf\n",
      "11\n",
      "Processed 19770014316.pdf\n",
      "12\n",
      "Processed Simple_Sabotage_Field_Manual.txt\n",
      "13\n",
      "Processed Stories_and_Folk-lore _of_West_Cornwall.txt\n",
      "14\n",
      "Processed 19750024188.pdf\n",
      "15\n",
      "Processed See Important Preparation Requirements.pdf\n",
      "16\n",
      "Processed AI with Your Own Data- SCALE 21x presentation.pdf\n",
      "17\n",
      "Processed 19750004090.pdf\n",
      "18\n",
      "Processed 19790005042.pdf\n",
      "19\n",
      "Processed 19780019349.pdf\n",
      "20\n",
      "Processed 19780007361.pdf\n",
      "21\n",
      "Processed 19780017314.pdf\n",
      "22\n",
      "Processed mail-attachment.googleusercontent.com.pdf\n",
      "23\n",
      "Processed 19770006294.pdf\n"
     ]
    }
   ],
   "source": [
    "loader = DocumentLoader()\n",
    "loader.register_handler(TxtHandler())\n",
    "loader.register_handler(PDFHandler())\n",
    "\n",
    "count_docs = 0\n",
    "\n",
    "for file in settings.DATA_DIR.rglob(\"*\"):  ## Is this recursive? Yes, rglob is recursive\n",
    "    if not file.is_file():\n",
    "        continue\n",
    "    try:\n",
    "        count_docs += 1\n",
    "        print(count_docs)\n",
    "        content = loader.extract_text(file)\n",
    "        cleaned = clean_text(content)\n",
    "\n",
    "        # Append cleaned text to output file\n",
    "        stat = file.stat()\n",
    "        doc = TextFile(\n",
    "            date=str(datetime.datetime.fromtimestamp(stat.st_mtime)),\n",
    "            source=str(file.resolve()),\n",
    "            filename=file.name,\n",
    "            suffix=file.suffix,\n",
    "            size=stat.st_size,\n",
    "            content=cleaned,\n",
    "        )\n",
    "        # Append the cleaned text to the processed .txt file\n",
    "        meta_data = CreateMetaData(doc, separator=True)\n",
    "        AppendToTextFile(settings.PROCESSED_FILE, meta_data + cleaned)\n",
    "\n",
    "        # Append the cleaned text to the JSONL file\n",
    "        meta_data_no_separator = CreateMetaData(doc, separator=False)\n",
    "        append_jsonl_entry(doc, meta_data_no_separator + cleaned, settings.JSONL_FILE)\n",
    "\n",
    "        print(f\"Processed {file.name}\")\n",
    "    except Exception as e:\n",
    "        print(f\"⚠️ Error with {file.name}: {e}\")"
   ]
  },
  {
   "cell_type": "code",
   "execution_count": null,
   "metadata": {},
   "outputs": [],
   "source": []
  }
 ],
 "metadata": {
  "kernelspec": {
   "display_name": ".venv",
   "language": "python",
   "name": "python3"
  },
  "language_info": {
   "codemirror_mode": {
    "name": "ipython",
    "version": 3
   },
   "file_extension": ".py",
   "mimetype": "text/x-python",
   "name": "python",
   "nbconvert_exporter": "python",
   "pygments_lexer": "ipython3",
   "version": "3.9.6"
  }
 },
 "nbformat": 4,
 "nbformat_minor": 2
}
